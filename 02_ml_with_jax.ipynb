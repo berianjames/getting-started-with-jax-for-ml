{
 "cells": [
  {
   "cell_type": "markdown",
   "metadata": {},
   "source": [
    "# Tutorial: Getting Started with JAX for machine learning\n",
    "\n",
    "Having seen (`01_jax.ipynb`) JAX's ability to differentiate and vectorise, we might reasonably consider taking gradients of functions like \"the loss function of a model\" and vectorising operations like \"take the parameter gradients across all samples in the data set\"."
   ]
  },
  {
   "cell_type": "markdown",
   "metadata": {},
   "source": [
    "### Optional: Model training in pure JAX"
   ]
  },
  {
   "cell_type": "code",
   "execution_count": 6,
   "metadata": {},
   "outputs": [],
   "source": [
    "# NotImplementedError"
   ]
  },
  {
   "cell_type": "markdown",
   "metadata": {},
   "source": [
    "### Model training with JAX, equinox and optax\n",
    "\n",
    "Model training with JAX is an obvious enough idea that several libraries emerged in 2019-20 to support abstractions like network layers and utility functions for parameter updates. The most prominent of these are [Flax](https://flax.readthedocs.io/en/latest/) (Google Research) and [Haiku](https://dm-haiku.readthedocs.io/en/latest/index.html) (Google DeepMind), neither of which I find very satisfactory. \n",
    "\n",
    "For starting out, I recommend the newer [equinox](https://docs.kidger.site/equinox/). Here is a linear layer implemented for training:"
   ]
  },
  {
   "cell_type": "code",
   "execution_count": 5,
   "metadata": {},
   "outputs": [],
   "source": [
    "import jax\n",
    "import jax.random as jr\n",
    "import jax.numpy as jnp\n",
    "import equinox as eqx\n",
    "\n",
    "batch_size, in_size, out_size = 32, 2, 3\n",
    "x = jnp.zeros((batch_size, in_size))\n",
    "y = jnp.zeros((batch_size, out_size))\n",
    "\n",
    "class Linear(eqx.Module):\n",
    "    weight: jax.Array\n",
    "    bias: jax.Array\n",
    "\n",
    "    def __init__(self, in_size, out_size, seed):\n",
    "        wkey, bkey = jr.split(jr.PRNGKey(seed))\n",
    "        self.weight = jr.normal(wkey, (out_size, in_size))\n",
    "        self.bias = jr.normal(bkey, (out_size,))\n",
    "\n",
    "    def __call__(self, x):\n",
    "        return self.weight @ x + self.bias\n",
    "\n",
    "model = Linear(in_size, out_size, seed=404)\n"
   ]
  },
  {
   "cell_type": "code",
   "execution_count": null,
   "metadata": {},
   "outputs": [],
   "source": [
    "@jax.jit\n",
    "@jax.grad\n",
    "def loss_fn(model, x, y):\n",
    "    pred_y = jax.vmap(model)(x)\n",
    "    return jnp.mean((y - pred_y) ** 2)\n",
    "\n",
    "grads = loss_fn(model, x, y)"
   ]
  }
 ],
 "metadata": {
  "kernelspec": {
   "display_name": "hypermagnetics",
   "language": "python",
   "name": "python3"
  },
  "language_info": {
   "codemirror_mode": {
    "name": "ipython",
    "version": 3
   },
   "file_extension": ".py",
   "mimetype": "text/x-python",
   "name": "python",
   "nbconvert_exporter": "python",
   "pygments_lexer": "ipython3",
   "version": "3.9.18"
  }
 },
 "nbformat": 4,
 "nbformat_minor": 2
}
